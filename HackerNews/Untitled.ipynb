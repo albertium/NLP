{
 "cells": [
  {
   "cell_type": "markdown",
   "metadata": {},
   "source": [
    "To predict upvotes"
   ]
  },
  {
   "cell_type": "code",
   "execution_count": 40,
   "metadata": {
    "collapsed": false
   },
   "outputs": [],
   "source": [
    "from sklearn.feature_extraction.text import CountVectorizer\n",
    "import pandas as pd\n",
    "\n",
    "text = pd.read_csv(\"./data/stories.csv\", header=None)\n",
    "text[[5, 7]] = text[[5, 7]].astype(str)\n",
    "matrix = CountVectorizer(lowercase=True, stop_words=\"english\").fit_transform(text[5] + \" \" + text[7])\n"
   ]
  },
  {
   "cell_type": "code",
   "execution_count": 46,
   "metadata": {
    "collapsed": false
   },
   "outputs": [
    {
     "data": {
      "text/plain": [
       "SelectKBest(k=10000, score_func=<function chi2 at 0x00000189A1AF0840>)"
      ]
     },
     "execution_count": 46,
     "metadata": {},
     "output_type": "execute_result"
    }
   ],
   "source": [
    "from sklearn.feature_selection import SelectKBest, chi2\n",
    "\n",
    "# treat upvotes as binary\n",
    "y = text[4] > text[4].mean()\n",
    "\n",
    "# select best k variables based on Chi-square\n",
    "selector = SelectKBest(chi2, k=10000)\n",
    "selector.fit(matrix, y)\n",
    "\n",
    "selected_words = selector.get_support().nonzero()\n",
    "reduced_matrix = matrix[:, selected_words[0]]"
   ]
  },
  {
   "cell_type": "code",
   "execution_count": 80,
   "metadata": {
    "collapsed": false
   },
   "outputs": [],
   "source": [
    "import re\n",
    "import numpy as np\n",
    "\n",
    "# getting meta information from headline\n",
    "getMeta = lambda x: [len(x), x.count(\" \"), x.count(\".\"), x.count(\"!\"), x.count(\"?\"),\n",
    "                    len(x) / (x.count(\" \")+1), x.count(\" \") / (x.count(\".\")+1), \n",
    "                    len(re.findall(\"\\d\", x)), len(re.findall(\"[A-Z]\", x))]\n",
    "\n",
    "meta = np.asarray(text[7].apply(getMeta).tolist())"
   ]
  },
  {
   "cell_type": "code",
   "execution_count": 83,
   "metadata": {
    "collapsed": false
   },
   "outputs": [],
   "source": [
    "getTime = lambda x: [x.year, x.month, x.day, x.hour, x.minute]\n",
    "time = np.asarray(pd.to_datetime(text[1]).apply(getTime).tolist())"
   ]
  },
  {
   "cell_type": "code",
   "execution_count": 114,
   "metadata": {
    "collapsed": false
   },
   "outputs": [
    {
     "name": "stdout",
     "output_type": "stream",
     "text": [
      "<class 'scipy.sparse.csr.csr_matrix'>\n",
      "<class 'scipy.sparse.csr.csr_matrix'>\n"
     ]
    }
   ],
   "source": [
    "from scipy.sparse import csr_matrix\n",
    "from scipy.sparse import hstack\n",
    "\n",
    "features = hstack([reduced_matrix, csr_matrix(meta), csr_matrix(time)], format=\"csr\")"
   ]
  },
  {
   "cell_type": "code",
   "execution_count": 95,
   "metadata": {
    "collapsed": false
   },
   "outputs": [],
   "source": [
    "from sklearn.linear_model import Ridge\n",
    "\n",
    "idx = np.random.permutation(range(text.shape[0]))\n",
    "split = int(text.shape[0]*0.6)\n",
    "train_idx = idx[:split]\n",
    "test_idx = idx[split:]"
   ]
  },
  {
   "cell_type": "code",
   "execution_count": 115,
   "metadata": {
    "collapsed": false
   },
   "outputs": [
    {
     "data": {
      "text/plain": [
       "Ridge(alpha=0.1, copy_X=True, fit_intercept=True, max_iter=None,\n",
       "   normalize=False, random_state=None, solver='auto', tol=0.001)"
      ]
     },
     "execution_count": 115,
     "metadata": {},
     "output_type": "execute_result"
    }
   ],
   "source": [
    "reg = Ridge(alpha=.1)\n",
    "reg.fit(features[train_idx, :], text[4][train_idx])"
   ]
  },
  {
   "cell_type": "code",
   "execution_count": 116,
   "metadata": {
    "collapsed": false
   },
   "outputs": [
    {
     "name": "stdout",
     "output_type": "stream",
     "text": [
      "14.1920628443\n",
      "14.4819088147\n"
     ]
    }
   ],
   "source": [
    "preds = reg.predict(features[test_idx, :])\n",
    "\n",
    "# model evaluation\n",
    "print(sum(abs(preds - text[4][test_idx])) / len(test_idx))\n",
    "\n",
    "# baseline\n",
    "avg_upvote = text[4].mean()\n",
    "print(sum(abs(avg_upvote - text[4][test_idx])) / len(test_idx))"
   ]
  },
  {
   "cell_type": "code",
   "execution_count": null,
   "metadata": {
    "collapsed": true
   },
   "outputs": [],
   "source": []
  }
 ],
 "metadata": {
  "anaconda-cloud": {},
  "kernelspec": {
   "display_name": "Python [Root]",
   "language": "python",
   "name": "Python [Root]"
  },
  "language_info": {
   "codemirror_mode": {
    "name": "ipython",
    "version": 3
   },
   "file_extension": ".py",
   "mimetype": "text/x-python",
   "name": "python",
   "nbconvert_exporter": "python",
   "pygments_lexer": "ipython3",
   "version": "3.5.2"
  }
 },
 "nbformat": 4,
 "nbformat_minor": 0
}
